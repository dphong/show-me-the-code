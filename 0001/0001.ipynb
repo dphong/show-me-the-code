{
 "cells": [
  {
   "cell_type": "code",
   "execution_count": 1,
   "metadata": {},
   "outputs": [],
   "source": [
    "import random\n",
    "\n",
    "def generateCouponCode(nums, code_length=8, prefix=\"\"):\n",
    "    seed = \"1234567890abcdefghijklmnopqrstuvwxyzABCDEFGHIJKLMNOPQRSTUVWXYZ\" #!@#$%^&*()_+=-\n",
    "    codes = []\n",
    "    for i in range(nums):\n",
    "        tmp = prefix.join(random.choice(seed) for j in range(code_length))\n",
    "        while(tmp in codes):\n",
    "            tmp = prefix + (random.choice(seed) for j in range(code_length))\n",
    "        codes.append(tmp)\n",
    "    return codes"
   ]
  },
  {
   "cell_type": "code",
   "execution_count": 2,
   "metadata": {},
   "outputs": [],
   "source": [
    "import numpy as np\n",
    "\n",
    "codes = np.array(generateCouponCode(200), dtype=\"str\")"
   ]
  },
  {
   "cell_type": "code",
   "execution_count": 3,
   "metadata": {},
   "outputs": [
    {
     "data": {
      "text/plain": [
       "array(['i8N3Jws3', '2pSy28AM', 'fDpcQmnC', '4AsI8ewu', 'tLeno1QT',\n",
       "       'aJSbb5rK', '7SyQAofH', '8dGsoGTW', 'CotmhMuh', '6ESh5aJB',\n",
       "       'xxBBuw9h', 'ziF3bgwa', 'p5glGxtn', 'JVi2Rgaz', 'UFQM2j13',\n",
       "       'b6bMrm73', '2iPjrjHB', 'PGus8lxA', '6Pjrr2wr', 'wn761j87',\n",
       "       'ANPIeM3t', 'aP0xtcs2', '7Kuv0I4b', 'Wo3z00cT', 'jV7lMP0Z',\n",
       "       'EkX2QQ5B', 'goOGUG8U', 'EEsBYRZ8', 'vV2MwgID', 's3VYge7f',\n",
       "       'k1gZ6CeA', 'lIqMH0VK', '3b6fY2pp', 'O3ODcfPb', '5W2FXtMA',\n",
       "       'ECAcNxzx', 'dn5yc6km', 'OnJUtlJz', 'NtVlIfIF', 'a6i9ChDA',\n",
       "       'ZttUgTo6', 'TOcsV594', 'D7cRQf5M', '1bxXfeWt', 'D8TVFqju',\n",
       "       'hHfqrJP1', 'NzBwoQJm', 'dCgH3SVC', 'XFmA8wDM', 'YJYPePH0',\n",
       "       'xb6wu0wO', 'gV8wZdIz', 'tNLDfpI2', 'xYI7Lrkv', 'Ob3nAkLd',\n",
       "       'Y6SDtxTl', 'qWYpzGHt', '2RlWtFt7', 'hjmNj1W6', 'qaGlGolC',\n",
       "       'JgnizvI7', 'P5RVPa7E', 'SqoC58hu', 'z4zJk1W9', 'b0u9KzSj',\n",
       "       'lyDEVnkq', '3ITZUSva', 'a2xvy9sT', 'PW3hf78N', 'wFvjRZPJ',\n",
       "       'NwfSjuTO', 'KJaY6kRQ', '7KNTCjOb', 'XuMGzkux', '5fRSEaur',\n",
       "       'rJ5ajPWu', 'qKeowNoI', 'QQWioYr8', 'YtppPJrd', 'jUpLHxY6',\n",
       "       'YDV5ZLbH', 'zZ9gSfRJ', 'u6YKdR8Q', 'UCpwPtmB', 'LeFBGCLv',\n",
       "       'LUo8Pt3w', 'SBDRpCrn', 'jW5sg2Y0', 'idhlov36', 'BlKt8Nue',\n",
       "       'UUKeG7vd', 'wfc7EpOl', 'SEUdKWSe', 'OtNrHBvb', 'oVumS3PH',\n",
       "       'gFblejn0', 'OmbHuMvo', 'cQt4U826', '60QgCIcK', 'vc2fgtvo',\n",
       "       'WsaV6gMC', 'tNUNfoqJ', '1Wml1IcP', 'BU38LZZF', '8F3pIZGZ',\n",
       "       'b0Gx2KpQ', 'si5hRnZH', 'ztJaplvf', 'PDpXDmyA', 'h0L7bbQz',\n",
       "       'Pu7DA6R2', 'FubmDtN0', 'twhG1AQQ', 'MITt7bc1', '5DY2AaWX',\n",
       "       'LdH4XNys', 'N5e6D90o', '0gmZQTbT', 'G5clC9xm', 'kX0nlZf6',\n",
       "       'A3m05syW', 'f381r24z', 'H0czsZij', 'pJuOuk6R', '77gYezu0',\n",
       "       'Is7Lo5d0', 'tE0KVXov', 'HRoB7gzL', 'YH43gJ20', 'hlIjEJOV',\n",
       "       'JEavPeYI', 'e71T41xn', 'eSQixszK', 'SkETX5tl', 'XyWv3gf0',\n",
       "       'uXUKilWh', 'CUhhV6Bi', 'cn6CWlk8', 'PUk4ULo9', 'Me8voJll',\n",
       "       'yuiU5A4Y', 'Oq82S3HC', 'xdndpKn3', 'R7iy7BIo', 'rG3zvISF',\n",
       "       '3uuYBbHp', 'w0uDytXI', 'Lb4amEKb', 'Mrdy1zJ8', 'cvEQhX58',\n",
       "       'xexC9daI', 'Sm8jg9lJ', 'kgHnQBKC', '6843Tcaj', '3oB1AAJM',\n",
       "       'rCaXQ5MC', 'yGp7bInR', 'Uv2a4cTk', 'dCgRsebD', 'QXovetoe',\n",
       "       'SZsDTcyA', 'rDM9FC4R', 'YCqOvkNy', 'OCnTiyhT', 'Y000o1Hd',\n",
       "       '94ACQlzV', '9XqN8zQg', 'MeJw7c92', 'oG7IrzWn', 'wJHDjlzB',\n",
       "       'aEKmZCMg', 'OIcfymkn', 'JWk3A5R3', 'PJzyd9lo', 'bsngxWMr',\n",
       "       'MyMEaFuA', 'm6rbfjlV', 'eQaOpGLp', 'yj9Sir3F', 'FLXa7Xx1',\n",
       "       'KGswaTWN', 'VK1WWqdt', 'krMCUVbe', 'nPUmpbwt', 'yZlMHwUS',\n",
       "       'kupCKSSg', '6uQvbsa4', '1SpUY6tK', 'NMkm9oAw', '2Rrz3aVB',\n",
       "       'p25K8TDQ', 'q21S3zR8', 'hcHjfwLj', 'tOX0cv7B', 'vXBSYTce',\n",
       "       'yTmmCmeq', '5pKc9sMF', '9fZuukg4', '0esHjT1Y', '3vbklwkh'],\n",
       "      dtype='<U8')"
      ]
     },
     "execution_count": 3,
     "metadata": {},
     "output_type": "execute_result"
    }
   ],
   "source": [
    "codes"
   ]
  },
  {
   "cell_type": "code",
   "execution_count": 4,
   "metadata": {},
   "outputs": [],
   "source": [
    "codes.tofile(\"codes.txt\", sep=\" \", format=\"%s\")"
   ]
  }
 ],
 "metadata": {
  "kernelspec": {
   "display_name": "Python 3",
   "language": "python",
   "name": "python3"
  },
  "language_info": {
   "codemirror_mode": {
    "name": "ipython",
    "version": 3
   },
   "file_extension": ".py",
   "mimetype": "text/x-python",
   "name": "python",
   "nbconvert_exporter": "python",
   "pygments_lexer": "ipython3",
   "version": "3.6.3"
  }
 },
 "nbformat": 4,
 "nbformat_minor": 2
}
